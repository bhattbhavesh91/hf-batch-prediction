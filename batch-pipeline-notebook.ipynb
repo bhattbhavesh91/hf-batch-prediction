{
  "nbformat": 4,
  "nbformat_minor": 0,
  "metadata": {
    "colab": {
      "provenance": []
    },
    "kernelspec": {
      "name": "python3",
      "display_name": "Python 3"
    },
    "language_info": {
      "name": "python"
    },
    "accelerator": "GPU",
    "gpuClass": "standard"
  },
  "cells": [
    {
      "cell_type": "code",
      "source": [
        "!pip install -q transformers"
      ],
      "metadata": {
        "id": "9bwhj1nU2BnA"
      },
      "execution_count": null,
      "outputs": []
    },
    {
      "cell_type": "code",
      "source": [
        "import pandas as pd\n",
        "import torch\n",
        "from torch.utils.data import Dataset, DataLoader\n",
        "from transformers import pipeline\n",
        "from tqdm.auto import tqdm"
      ],
      "metadata": {
        "id": "K3oG39wE30ZR"
      },
      "execution_count": null,
      "outputs": []
    },
    {
      "cell_type": "code",
      "source": [
        "!nvidia-smi"
      ],
      "metadata": {
        "id": "CQS5K59C9UpF"
      },
      "execution_count": null,
      "outputs": []
    },
    {
      "cell_type": "code",
      "source": [
        "# create custom dataset class\n",
        "class CustomTextDataset(Dataset):\n",
        "    def __init__(self, text):\n",
        "        self.text = text\n",
        "\n",
        "    def __len__(self):\n",
        "        return len(self.text)\n",
        "\n",
        "    def __getitem__(self, idx):\n",
        "        data = self.text[idx]\n",
        "        return data"
      ],
      "metadata": {
        "id": "xbTndu2r8MIo"
      },
      "execution_count": null,
      "outputs": []
    },
    {
      "cell_type": "code",
      "source": [
        "pd_df = pd.read_csv(\"Keywords_increasing_rank_dec'22 to mar'23.csv\")"
      ],
      "metadata": {
        "id": "VghR3Ftx4Doj"
      },
      "execution_count": null,
      "outputs": []
    },
    {
      "cell_type": "code",
      "source": [
        "pd_df.head(3)"
      ],
      "metadata": {
        "id": "9-CwgHVG4M3x"
      },
      "execution_count": null,
      "outputs": []
    },
    {
      "cell_type": "code",
      "source": [
        "pd_df.shape"
      ],
      "metadata": {
        "id": "zqEwFr1t4vJb"
      },
      "execution_count": null,
      "outputs": []
    },
    {
      "cell_type": "code",
      "source": [
        "TD = CustomTextDataset(pd_df['Search Term'])"
      ],
      "metadata": {
        "id": "8jDSvbBn4M6c"
      },
      "execution_count": null,
      "outputs": []
    },
    {
      "cell_type": "code",
      "source": [
        "print('\\nFirst iteration of data set: ', next(iter(TD)), '\\n')\n",
        "print('Length of data set: ', len(TD), '\\n')"
      ],
      "metadata": {
        "id": "T6EYnSw74t6Z"
      },
      "execution_count": null,
      "outputs": []
    },
    {
      "cell_type": "code",
      "source": [
        "pipe = pipeline(\"zero-shot-classification\",\n",
        "                model=\"facebook/bart-large-mnli\",\n",
        "                device=0)"
      ],
      "metadata": {
        "id": "mMF2okXv48Vz"
      },
      "execution_count": null,
      "outputs": []
    },
    {
      "cell_type": "code",
      "source": [
        "candidate_labels = ['oral care', 'not oral care', 'flavour', 'technology']"
      ],
      "metadata": {
        "id": "5r5HqfwD48YA"
      },
      "execution_count": null,
      "outputs": []
    },
    {
      "cell_type": "code",
      "source": [
        "out_result = []\n",
        "for batch_size in [128]:\n",
        "    print(\"-\" * 30)\n",
        "    print(f\"Streaming batch_size={batch_size}\")\n",
        "    for out in tqdm(pipe(TD, candidate_labels, batch_size=batch_size), total=len(TD)):\n",
        "        out_result.append(out)"
      ],
      "metadata": {
        "id": "d4xwnphs69iD"
      },
      "execution_count": null,
      "outputs": []
    },
    {
      "cell_type": "code",
      "source": [
        "out_result"
      ],
      "metadata": {
        "id": "ljWtTumm69kg"
      },
      "execution_count": null,
      "outputs": []
    },
    {
      "cell_type": "code",
      "source": [],
      "metadata": {
        "id": "wRkNFz1i69p_"
      },
      "execution_count": null,
      "outputs": []
    }
  ]
}